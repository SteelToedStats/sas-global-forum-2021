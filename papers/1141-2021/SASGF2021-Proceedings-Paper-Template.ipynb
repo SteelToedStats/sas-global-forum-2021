{
 "cells": [
  {
   "cell_type": "markdown",
   "metadata": {
    "tags": [
     "remove_cell"
    ]
   },
   "source": [
    "This paper template provides the example elements for you to submit your SAS Global forum paper directly from Jupyter Lab (Notebook).\n",
    "\n",
    "In the cells below you will see examples of common elements in SAS Global Forum papers\n",
    "\n",
    "The MyST Cheat sheet is [here](https://jupyterbook.org/reference/cheatsheet.html)\n",
    "\n",
    "For questions open [issues here](https://github.com/sascommunities/sas-global-forum-2021/issues)\n",
    "\n"
   ]
  },
  {
   "cell_type": "code",
   "execution_count": 1,
   "metadata": {
    "hide_cell": true,
    "tags": [
     "remove_cell"
    ]
   },
   "outputs": [
    {
     "data": {
      "text/html": [
       "<style>\n",
       "/* do not delete this cell */\n",
       "/* this cell implements the SGF 2021 conference paper template */\n",
       ".text_cell_render {\n",
       "  font-family: \"Verdana\";\n",
       "}\n",
       ".text_cell_render h1 {\n",
       "  font-size: 13pt;\n",
       "  text-align: center;\n",
       "}\n",
       ".text_cell_render h2 {\n",
       "  font-size: 13pt;\n",
       "  color: #44AFFC;\n",
       "  text-transform: uppercase;\n",
       "}\n",
       ".text_cell_render h3 {\n",
       "  font-size: 11pt;\n",
       "  text-transform: uppercase;\n",
       "}\n",
       ".text_cell_render h4 {\n",
       "  font-size: 11pt;\n",
       "}\n",
       ".text_cell_render h5 {\n",
       "  font-size: 11pt;\n",
       "  font-style: italic;\n",
       "}\n",
       "\n",
       ".text_cell_render h6 {\n",
       "  font-size: 10pt;\n",
       "  font-style: normal;\n",
       "  font-weight: bold;\n",
       "  text-align: center;\n",
       "}\n",
       "\n",
       ".text_cell_render p {\n",
       "  font-size: 10pt;\n",
       "}\n",
       "</style>"
      ],
      "text/plain": [
       "<IPython.core.display.HTML object>"
      ]
     },
     "metadata": {},
     "output_type": "display_data"
    }
   ],
   "source": [
    "%%html\n",
    "<style>\n",
    "/* do not delete this cell */\n",
    "/* this cell implements the SGF 2021 conference paper template */\n",
    ".text_cell_render {\n",
    "  font-family: \"Verdana\";\n",
    "}\n",
    ".text_cell_render h1 {\n",
    "  font-size: 13pt;\n",
    "  text-align: center;\n",
    "}\n",
    ".text_cell_render h2 {\n",
    "  font-size: 13pt;\n",
    "  color: #44AFFC;\n",
    "  text-transform: uppercase;\n",
    "}\n",
    ".text_cell_render h3 {\n",
    "  font-size: 11pt;\n",
    "  text-transform: uppercase;\n",
    "}\n",
    ".text_cell_render h4 {\n",
    "  font-size: 11pt;\n",
    "}\n",
    ".text_cell_render h5 {\n",
    "  font-size: 11pt;\n",
    "  font-style: italic;\n",
    "}\n",
    "\n",
    ".text_cell_render h6 {\n",
    "  font-size: 10pt;\n",
    "  font-style: normal;\n",
    "  font-weight: bold;\n",
    "  text-align: center;\n",
    "}\n",
    "\n",
    ".text_cell_render p {\n",
    "  font-size: 10pt;\n",
    "}\n",
    "</style>"
   ]
  },
  {
   "cell_type": "markdown",
   "metadata": {},
   "source": [
    "![](wordart-2021.png)"
   ]
  },
  {
   "cell_type": "markdown",
   "metadata": {},
   "source": [
    "###### Paper ###-2021 (if SAS author, use SAS###-2021 or SAS####-2021)"
   ]
  },
  {
   "cell_type": "markdown",
   "metadata": {},
   "source": [
    "# Title for SAS&reg; Global Forum 2021 Sample Paper"
   ]
  },
  {
   "cell_type": "markdown",
   "metadata": {},
   "source": [
    "Author 1 name, ABC Corporation; Author 2 name, DEF Corporation; Author 3 name, GHJ University\n",
    "\n",
    "OR\n",
    "\n",
    "Author 1 name, Author 2 name, and Author 3 name, SAS Institute Inc. "
   ]
  },
  {
   "cell_type": "markdown",
   "metadata": {},
   "source": [
    "## Abstract\n",
    "This paragraph uses the PaperBody style, which uses the Verdana font, not the Arial font."
   ]
  },
  {
   "cell_type": "markdown",
   "metadata": {},
   "source": [
    "## INTRODUCTION\n",
    "This paragraph uses the PaperBody style, which uses the Verdana font, not the Arial font."
   ]
  },
  {
   "cell_type": "markdown",
   "metadata": {},
   "source": [
    "## FIRST MAIN TOPIC <HEADING 2>\n",
    "This is a main topic in the body of the paper. This paragraph uses the PaperBody style, which uses the Verdana font, not the Arial font.\n",
    "\n",
    "If you need to include source code, introduce it with a sentence that ends with a colon:"
   ]
  },
  {
   "cell_type": "code",
   "execution_count": null,
   "metadata": {},
   "outputs": [],
   "source": [
    "proc ds2;\n",
    "data _null_; \n",
    "  method init(); \n",
    "    dcl varchar(16) str; \n",
    "    str = 'Hello World!'; \n",
    "    put str; \n",
    "  end;\n",
    "enddata;\n",
    "run;\n",
    "quit;"
   ]
  },
  {
   "cell_type": "markdown",
   "metadata": {},
   "source": [
    "Figure 1 is a sample figure.\n",
    "\n",
    "![](figure1.jpg)\n",
    "\n",
    "_Figure 1. Caption for sample figure_\n"
   ]
  },
  {
   "cell_type": "markdown",
   "metadata": {},
   "source": [
    "### SUBHEAD A LEVEL <HEADING 3>\n",
    "This paragraph uses the PaperBody style, which uses the Verdana font, not the Arial font.\n",
    "\n",
    "Table 1 is a sample table. \n",
    "\n",
    "| SAS Variable Format | DB2 Data Type |\n",
    "| ------------------- | ------------- |\n",
    "| $w. |  CHARACTER |\n",
    "| any date format  | date |\n",
    "\n",
    "_Table 1. DBLOAD Procedure: Default DB2 Data Types for SAS Variable Formats_"
   ]
  },
  {
   "cell_type": "markdown",
   "metadata": {},
   "source": [
    "## SECOND MAIN TOPIC <HEADING 2>\n",
    "\n",
    "This paragraph uses the PaperBody style, which uses the Verdana font, not the Arial font.\n",
    "\n",
    "1. This is a sample numbered or ordered list item. This is list item text. This is list item text. This is list item text. \n",
    "1. This is a sample numbered or ordered list item. This is list item text.\n",
    "\n",
    "This paragraph uses the PaperBody style, which uses the Verdana font, not the Arial font.\n",
    "* This is a sample bulleted list item. This is list item text. This is list item text. This is list item text. This is list item text. \n",
    "* This is a sample bulleted list item. This is list item text.\n",
    "\n",
    "This is a continuation of the body of the paper—after an unordered list. This paragraph uses the PaperBody style, which uses the Verdana font, not the Arial font."
   ]
  },
  {
   "cell_type": "markdown",
   "metadata": {},
   "source": [
    "Display 1 is a sample display or screen capture.\n",
    "\n",
    "![](display1.jpg)\n",
    "\n",
    "_Display 1. Former main Interfacce for SAS Management Console_"
   ]
  },
  {
   "cell_type": "markdown",
   "metadata": {},
   "source": [
    "### Subhead A level <HEADING 3>\n",
    "\n",
    "This paragraph uses the PaperBody style, which uses the Verdana font, not the Arial font.\n",
    "\n",
    "Output 1 shows an example of out to present output that hasn't been generated automatically from SAS code.\n",
    "\n",
    "```sas\n",
    "CREATE TABLE ALLACCTX(SourceSystem varchar(4),\n",
    "cctnum numeric(18,5) CONSTRAINT \"ALLACCT_PK\" PRIMARY KEY,\n",
    "ccttype numeric(18,5),balance numeric(18,5),clientid numeric(18,5),\n",
    "losedate date,opendate date,primary_cd numeric(18,5),status varchar(1))\n",
    "```\n",
    "\n",
    "_Output 1. Output from a CREATE TABLE statement_"
   ]
  },
  {
   "cell_type": "markdown",
   "metadata": {},
   "source": [
    "#### Subhead B Level <HEADING 4>\n",
    "\n",
    "This is a subtopic of a subtopic. This paragraph uses the PaperBody style, which uses the Verdana font, not the Arial font."
   ]
  },
  {
   "cell_type": "markdown",
   "metadata": {},
   "source": [
    "##### Subhead C Level <HEADING 5>\n",
    "\n",
    "This paragraph uses the PaperBody style, which uses the Verdana font, not the Arial font."
   ]
  },
  {
   "cell_type": "markdown",
   "metadata": {},
   "source": [
    "## CONCLUSION\n",
    "\n",
    "This paragraph uses the PaperBody style, which uses the Verdana font, not the Arial font."
   ]
  },
  {
   "cell_type": "markdown",
   "metadata": {},
   "source": [
    "## REFERENCES\n",
    "\n",
    "Reference examples:\n",
    "\n",
    "Book Agresti, A. 2013. Categorical Data Analysis. 3rd ed. Hoboken, NJ: John Wiley & Sons.\n",
    "\n",
    "Journal article Akaike, H. 1979. “A Bayesian Extension of the Minimum AIC Procedure of Autoregressive Model Fitting.” Biometrika, 66:237–242.\n",
    "\n",
    "Article in conference proceedings Dorfman, A. H. and R. Valliant. 1993. “Quantile Variance Estimators in Complex Surveys.” Proceedings of the Survey Research Methods Section, 866–871. Alexandria, VA: American Statistical Association.\n",
    "\n",
    "Website Federal Reserve Bank of St. Louis. 2012. “Economic Research.” Accessed November 7, 2012. http://research.stlouisfed.org."
   ]
  },
  {
   "cell_type": "markdown",
   "metadata": {},
   "source": [
    "## ACKNOWLEDGMENTS\n",
    "\n",
    "This is the text for the acknowledgments. This paragraph uses the PaperBody style, which uses the default font."
   ]
  },
  {
   "cell_type": "markdown",
   "metadata": {},
   "source": [
    "## RECOMMENDED READING\n",
    "\n",
    "* Bases SAS&reg; Procedures Guide\n",
    "* SAS&reg; For Dummies&reg;"
   ]
  },
  {
   "cell_type": "markdown",
   "metadata": {},
   "source": [
    "## CONTACT INFORMATION\n",
    "\n",
    "Your comment and questions are valued and encouraged. Contact the author at:\n",
    "\n",
    "&nbsp;&nbsp;&nbsp;&nbsp;&nbsp;&nbsp; Name <br>\n",
    "&nbsp;&nbsp;&nbsp;&nbsp;&nbsp;&nbsp; Enterprise (optional) <br>\n",
    "&nbsp;&nbsp;&nbsp;&nbsp;&nbsp;&nbsp; Phone (optional) <br>\n",
    "&nbsp;&nbsp;&nbsp;&nbsp;&nbsp;&nbsp; Email <br>\n",
    "&nbsp;&nbsp;&nbsp;&nbsp;&nbsp;&nbsp; Web (optional)\n",
    "\n",
    "SAS and all other SAS Institute Inc. product or service names are registered trademarks or trademarks of SAS Institute Inc. in the USA and other countries. &reg; indicates USA registration. \n",
    "\n",
    "Other brand and product names are trademarks of their respective companies. "
   ]
  }
 ],
 "metadata": {
  "kernelspec": {
   "display_name": "SAS",
   "language": "sas",
   "name": "sas"
  },
  "language_info": {
   "codemirror_mode": "sas",
   "file_extension": ".sas",
   "mimetype": "text/x-sas",
   "name": "sas"
  }
 },
 "nbformat": 4,
 "nbformat_minor": 4
}
